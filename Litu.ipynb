{
 "cells": [
  {
   "cell_type": "markdown",
   "metadata": {},
   "source": [
    "## Litu"
   ]
  },
  {
   "cell_type": "code",
   "execution_count": 1,
   "metadata": {
    "tags": []
   },
   "outputs": [],
   "source": [
    "import datetime\n",
    "from datetime import timedelta\n",
    "\n",
    "from Degree import Degree\n",
    "from Dasha import Dasha\n",
    "from Nakhetra import Nakhetra\n",
    "from Rasi import Rasi\n",
    "from Planet import Planet\n",
    "from vimshottari import vimshottari"
   ]
  },
  {
   "cell_type": "code",
   "execution_count": 2,
   "metadata": {},
   "outputs": [],
   "source": [
    "Ascendant = Rasi(6, Degree(7, 21, 24))\n",
    "Mars = Rasi(6, Degree(28, 41, 7))\n",
    "Rahu = Rasi(4, Degree(26, 10, 35))"
   ]
  },
  {
   "cell_type": "code",
   "execution_count": 3,
   "metadata": {},
   "outputs": [],
   "source": [
    "litu_moon = Planet('moon', Rasi(7, Degree(10, 37, 17)), Nakhetra(15, 2))\n",
    "litu_date_of_birth = datetime.datetime(1980, 8, 17, 8, 15, 0)\n",
    "dasha = vimshottari(litu_date_of_birth, litu_moon)"
   ]
  },
  {
   "cell_type": "code",
   "execution_count": 4,
   "metadata": {},
   "outputs": [
    {
     "name": "stdout",
     "output_type": "stream",
     "text": [
      "['saturn', 'moon', 'rahu', 'venus', 'jupiter', 'venus', 'venus', 'saturn', 'venus', 'sun', 'jupiter', 'jupiter']\n"
     ]
    }
   ],
   "source": [
    "event = datetime.datetime.today()\n",
    "\n",
    "dasha.find_dasha_running(event)"
   ]
  },
  {
   "cell_type": "code",
   "execution_count": 5,
   "metadata": {},
   "outputs": [
    {
     "data": {
      "text/plain": [
       "0.29660416666666667"
      ]
     },
     "execution_count": 5,
     "metadata": {},
     "output_type": "execute_result"
    }
   ],
   "source": [
    "dasha.dasha_degrees_over_fraction"
   ]
  },
  {
   "cell_type": "code",
   "execution_count": 6,
   "metadata": {},
   "outputs": [],
   "source": [
    "rahu_dasha_passed_from_birth = (datetime.datetime(1982, 7, 1) - litu_date_of_birth) / timedelta(days=18 * 365 + 4)"
   ]
  },
  {
   "cell_type": "code",
   "execution_count": 7,
   "metadata": {},
   "outputs": [
    {
     "data": {
      "text/plain": [
       "0.10384183906297535"
      ]
     },
     "execution_count": 7,
     "metadata": {},
     "output_type": "execute_result"
    }
   ],
   "source": [
    "rahu_dasha_passed_from_birth"
   ]
  },
  {
   "cell_type": "code",
   "execution_count": 8,
   "metadata": {},
   "outputs": [
    {
     "name": "stdout",
     "output_type": "stream",
     "text": [
      "78.0,47.0,35.97657438390888\n"
     ]
    }
   ],
   "source": [
    "print(Rahu.abs_degree - (Degree(360, 0, 0) * rahu_dasha_passed_from_birth))"
   ]
  },
  {
   "cell_type": "code",
   "execution_count": 9,
   "metadata": {},
   "outputs": [
    {
     "name": "stdout",
     "output_type": "stream",
     "text": [
      "103.0,42.0,55.325524794636294\n"
     ]
    }
   ],
   "source": [
    "print(Rahu.abs_degree - (Degree(120, 0, 0) * rahu_dasha_passed_from_birth))"
   ]
  },
  {
   "cell_type": "code",
   "execution_count": 10,
   "metadata": {},
   "outputs": [
    {
     "name": "stdout",
     "output_type": "stream",
     "text": [
      "153.0,33.0,34.02342561609112\n"
     ]
    }
   ],
   "source": [
    "print(Rahu.abs_degree + (Degree(360, 0, 0) * rahu_dasha_passed_from_birth))"
   ]
  },
  {
   "cell_type": "code",
   "execution_count": 11,
   "metadata": {},
   "outputs": [
    {
     "name": "stdout",
     "output_type": "stream",
     "text": [
      "128.0,38.0,14.674475205363706\n"
     ]
    }
   ],
   "source": [
    "d = Rahu.abs_degree + (Degree(120, 0, 0) * rahu_dasha_passed_from_birth)\n",
    "print(d)"
   ]
  },
  {
   "cell_type": "code",
   "execution_count": 12,
   "metadata": {},
   "outputs": [],
   "source": [
    "r = Rasi()\n",
    "r.from_abs_degree(d)"
   ]
  },
  {
   "cell_type": "code",
   "execution_count": 15,
   "metadata": {},
   "outputs": [
    {
     "data": {
      "text/plain": [
       "31094.674475205364"
      ]
     },
     "execution_count": 15,
     "metadata": {},
     "output_type": "execute_result"
    }
   ],
   "source": [
    "r.degree"
   ]
  },
  {
   "cell_type": "code",
   "execution_count": 14,
   "metadata": {},
   "outputs": [
    {
     "ename": "NameError",
     "evalue": "name 'rahu_moved_backward_to' is not defined",
     "output_type": "error",
     "traceback": [
      "\u001b[0;31m---------------------------------------------------------------------------\u001b[0m",
      "\u001b[0;31mNameError\u001b[0m                                 Traceback (most recent call last)",
      "\u001b[0;32m<ipython-input-14-3fb307be8924>\u001b[0m in \u001b[0;36m<module>\u001b[0;34m\u001b[0m\n\u001b[0;32m----> 1\u001b[0;31m \u001b[0mprint\u001b[0m\u001b[0;34m(\u001b[0m\u001b[0mrahu_moved_backward_to\u001b[0m\u001b[0;34m)\u001b[0m\u001b[0;34m\u001b[0m\u001b[0;34m\u001b[0m\u001b[0m\n\u001b[0m",
      "\u001b[0;31mNameError\u001b[0m: name 'rahu_moved_backward_to' is not defined"
     ]
    }
   ],
   "source": [
    "print(rahu_moved_backward_to)"
   ]
  },
  {
   "cell_type": "markdown",
   "metadata": {},
   "source": [
    "##### Distance from Asc to Mars"
   ]
  },
  {
   "cell_type": "code",
   "execution_count": 27,
   "metadata": {},
   "outputs": [],
   "source": [
    "asc_mars = Mars.abs_degree - Ascendant.abs_degree\n",
    "rahu_mars = Mars.abs_degree - Rahu.abs_degree"
   ]
  },
  {
   "cell_type": "code",
   "execution_count": 28,
   "metadata": {},
   "outputs": [
    {
     "name": "stdout",
     "output_type": "stream",
     "text": [
      "62,30,32 0.1736358024691358\n"
     ]
    }
   ],
   "source": [
    "print(rahu_mars, rahu_mars / Degree(360, 0, 0))"
   ]
  },
  {
   "cell_type": "code",
   "execution_count": null,
   "metadata": {},
   "outputs": [],
   "source": []
  },
  {
   "cell_type": "raw",
   "metadata": {},
   "source": [
    "Planets\tC\tR\tRashi\tLongitude\tNakshatra\tPada\tRelation\n",
    "Asc\t \t \tVirgo\t07-21-24\tUttaraphal\t4\t \n",
    "Sun in Lagna Kundli\n",
    "Leo\n",
    "Own\n",
    "lord of [\"12\",\"0\"] and in 12 House \n",
    "Aspects on- [\"2:1/4\",\"3:3/4\",\"4:2/4\",\"6:1\",\"7:3/4\",\"8:2/4\",\"9:1/4\"]\n",
    "Aspects From- -\n",
    "READ SUN PREDICTIONSSun\t\tD\tLeo\t00-46-26\tMagha\t1\tOwn\n",
    "Moon in Lagna Kundli\n",
    "Libra\n",
    "Neutral\n",
    "lord of [\"11\",\"0\"] and in 2 House \n",
    "Aspects on- [\"4:1/4\",\"5:3/4\",\"6:2/4\",\"8:1\",\"9:3/4\",\"10:2/4\",\"11:1/4\"]\n",
    "Aspects From- -\n",
    "READ MOON PREDICTIONSMoon\t\tD\tLibra\t10-37-17\tSwati\t2\tNeutral\n",
    "Mars in Lagna Kundli\n",
    "Virgo\n",
    "Enemy\n",
    "lord of [\"8\",\"3\"] and in 1 House \n",
    "Aspects on- [\"3:1/4\",\"4:1\",\"5:2/4\",\"7:1\",\"8:1\",\"9:2/4\",\"10:1/4\"]\n",
    "Aspects From- [\"Ketu\"]\n",
    "READ MARS PREDICTIONSMars\t\tD\tVirgo\t28-41-07\tChitra\t2\tEnemy\n",
    "Mercury in Lagna Kundli\n",
    "Cancer\n",
    "Enemy\n",
    "lord of [\"10\",\"1\"] and in 11 House \n",
    "Aspects on- [\"1:1/4\",\"2:3/4\",\"3:2/4\",\"5:1\",\"6:3/4\",\"7:2/4\",\"8:1/4\"]\n",
    "Aspects From- [\"Ketu\"]\n",
    "READ MERCURY PREDICTIONSMerc\tC\tD\tCancer\t21-03-27\tAshlesha\t2\tEnemy\n",
    "Jupiter in Lagna Kundli\n",
    "Leo\n",
    "Friendly\n",
    "lord of [\"4\",\"7\"] and in 12 House \n",
    "Aspects on- [\"2:1/4\",\"3:3/4\",\"4:1\",\"6:1\",\"7:3/4\",\"8:1\",\"9:1/4\"]\n",
    "Aspects From- -\n",
    "READ JUPITER PREDICTIONSJupt\t\tD\tLeo\t21-18-54\tPurvaphalgini\t3\tFriendly\n",
    "Venus in Lagna Kundli\n",
    "Gemini\n",
    "Friendly\n",
    "lord of [\"9\",\"2\"] and in 10 House \n",
    "Aspects on- [\"12:1/4\",\"1:3/4\",\"2:2/4\",\"4:1\",\"5:3/4\",\"6:2/4\",\"7:1/4\"]\n",
    "Aspects From- [\"Saturn\"]\n",
    "READ VENUS PREDICTIONSVenu\t\tD\tGemini\t15-14-56\tArdra\t3\tFriendly\n",
    "Saturn in Lagna Kundli\n",
    "Virgo\n",
    "Friendly\n",
    "lord of [\"5\",\"6\"] and in 1 House \n",
    "Aspects on- [\"3:1\",\"4:3/4\",\"5:2/4\",\"7:1\",\"8:3/4\",\"9:2/4\",\"10:1\"]\n",
    "Aspects From- [\"Ketu\"]\n",
    "READ SATURN PREDICTIONSSatn\t\tD\tVirgo\t02-11-17\tUttaraphal\t2\tFriendly\n",
    "Rahu in Lagna Kundli\n",
    "Cancer\n",
    "-\n",
    "lord of [\"0\",\"0\"] and in 11 House \n",
    "Aspects on- [\"1:1/4\",\"2:3/4\",\"3:1\",\"5:1\",\"6:3/4\",\"7:1\",\"8:1/4\"]\n",
    "Aspects From- [\"Ketu\"]\n",
    "READ RAHU PREDICTIONSRahu\t\tR\tCancer\t26-10-35\tAshlesha\t3\t\n",
    "Ketu in Lagna Kundli\n",
    "Capricorn\n",
    "-\n",
    "lord of [\"0\",\"0\"] and in 5 House \n",
    "Aspects on- [\"7:1/4\",\"8:3/4\",\"9:1\",\"11:1\",\"12:3/4\",\"1:1\",\"2:1/4\"]\n",
    "Aspects From- [\"Mercury\",\"Rahu\"]\n",
    "READ KETU PREDICTIONSKetu\t\tR\tCapricorn\t26-10-35\tDhanishta\t1\t"
   ]
  },
  {
   "cell_type": "code",
   "execution_count": 13,
   "metadata": {},
   "outputs": [],
   "source": [
    "a = 9"
   ]
  },
  {
   "cell_type": "code",
   "execution_count": 17,
   "metadata": {},
   "outputs": [
    {
     "data": {
      "text/plain": [
       "1.8"
      ]
     },
     "execution_count": 17,
     "metadata": {},
     "output_type": "execute_result"
    }
   ],
   "source": [
    "a.__"
   ]
  },
  {
   "cell_type": "code",
   "execution_count": null,
   "metadata": {},
   "outputs": [],
   "source": []
  }
 ],
 "metadata": {
  "kernelspec": {
   "display_name": "Python 3.7.3 64-bit",
   "language": "python",
   "name": "python37364bit6431cd788c314fabafbe4544f9979196"
  },
  "language_info": {
   "codemirror_mode": {
    "name": "ipython",
    "version": 3
   },
   "file_extension": ".py",
   "mimetype": "text/x-python",
   "name": "python",
   "nbconvert_exporter": "python",
   "pygments_lexer": "ipython3",
   "version": "3.7.3"
  }
 },
 "nbformat": 4,
 "nbformat_minor": 4
}
