{
 "cells": [
  {
   "cell_type": "code",
   "execution_count": 1,
   "metadata": {},
   "outputs": [],
   "source": [
    "import datetime\n",
    "from datetime import timedelta"
   ]
  },
  {
   "cell_type": "code",
   "execution_count": 2,
   "metadata": {},
   "outputs": [],
   "source": [
    "class Degree:\n",
    "    def __init__(self, degree, minute, second):\n",
    "        self.degree = degree\n",
    "        self.minute = minute\n",
    "        self.second = second\n",
    "        \n",
    "    @property\n",
    "    def degree_in_seconds(self):\n",
    "        self._degree_in_seconds = self.degree * 3600 + self.minute * 60 + self.second\n",
    "        return self._degree_in_seconds\n",
    "    \n",
    "    def __truediv__(self, x):\n",
    "        return self.degree_in_seconds / x.degree_in_seconds\n",
    "    \n",
    "    def __sub__(self, x):\n",
    "        diff = self.degree_in_seconds - x.degree_in_seconds\n",
    "        d = diff // 3600\n",
    "        m = (diff % 3600) // 60\n",
    "        s = diff % 60\n",
    "        return self.__class__(d, m, s)\n",
    "    \n",
    "    def __add__(self, x):\n",
    "        sum = self.degree_in_seconds + x.degree_in_seconds\n",
    "        d = sum // 3600\n",
    "        m = (sum % 3600) // 60\n",
    "        s = sum % 60\n",
    "        return self.__class__(d, m, s)\n",
    "    \n",
    "    def __str__(self):\n",
    "        return str(self.degree) + ',' + str(self.minute) + ',' +  str(self.second)\n",
    "    \n",
    "    def times(self, n):\n",
    "        sum = self.degree_in_seconds * n\n",
    "        d = sum // 3600\n",
    "        m = (sum % 3600) // 60\n",
    "        s = sum % 60\n",
    "        return self.__class__(d, m, s)\n",
    "    \n"
   ]
  },
  {
   "cell_type": "code",
   "execution_count": 3,
   "metadata": {},
   "outputs": [],
   "source": [
    "def get_next_dasha_no(current_dasha_no):\n",
    "    if (current_dasha_no + 1) % 9  != 0:\n",
    "        return (current_dasha_no + 1) % 9 \n",
    "    else:\n",
    "        return 9"
   ]
  },
  {
   "cell_type": "code",
   "execution_count": 4,
   "metadata": {},
   "outputs": [],
   "source": [
    "def get_all_dashas_in_seq(current_dasha_no):\n",
    "    yield current_dasha_no\n",
    "    while get_next_dasha_no(current_dasha_no) != current_dasha_no:\n",
    "        yield get_next_dasha_no(current_dasha_no)\n",
    "        current_dasha_no = get_next_dasha_no(current_dasha_no)"
   ]
  },
  {
   "cell_type": "code",
   "execution_count": 5,
   "metadata": {},
   "outputs": [],
   "source": [
    "class Planet:\n",
    "    def __init__(self, planet_name, rasi_number, rasi_degree, nakhetra_number, pada_number):\n",
    "        self.planet_name = planet_name\n",
    "        self.rasi_number = rasi_number\n",
    "        self.rasi_degree = rasi_degree\n",
    "        self.nakhetra_number = nakhetra_number\n",
    "        self.pada_number = pada_number"
   ]
  },
  {
   "cell_type": "code",
   "execution_count": null,
   "metadata": {},
   "outputs": [],
   "source": []
  },
  {
   "cell_type": "code",
   "execution_count": 6,
   "metadata": {},
   "outputs": [],
   "source": [
    "mahadasha_days = dict()\n",
    "mahadasha_days[6] = 18 / 120\n",
    "mahadasha_days[7] = 16 / 120\n",
    "mahadasha_days[8] = 19 / 120\n",
    "mahadasha_days[9] = 17 / 120\n",
    "mahadasha_days[1] = 7 / 120\n",
    "mahadasha_days[2] = 20 / 120\n",
    "mahadasha_days[3] = 6 / 120\n",
    "mahadasha_days[4] = 10 / 120\n",
    "mahadasha_days[5] = 7 / 120"
   ]
  },
  {
   "cell_type": "code",
   "execution_count": 7,
   "metadata": {},
   "outputs": [],
   "source": [
    "class vimshottari:\n",
    "    mahadasha_number_planet_mapping = {\n",
    "            1: 'ketu',\n",
    "            2: 'venus',\n",
    "            3: 'sun',\n",
    "            4: 'moon',\n",
    "            5: 'mars',\n",
    "            6: 'rahu',\n",
    "            7: 'jupiter',\n",
    "            8: 'saturn',\n",
    "            9: 'mercury' }\n",
    "\n",
    "    \n",
    "    def __init__(self, date_of_birth, moon):\n",
    "        self.date_of_birth = date_of_birth\n",
    "        self.moon = moon\n",
    "        self.total_vimshottari_dasha_seconds = 120 * 365 * 86400\n",
    "        \n",
    "    @property\n",
    "    def mahadasha_no_at_birth(self):\n",
    "        if self.moon.nakhetra_number % 9 == 0:\n",
    "            return 9\n",
    "        else:\n",
    "            return self.moon.nakhetra_number % 9\n",
    "        \n",
    "    @property\n",
    "    def dasha_degrees_remaining_fraction(self):\n",
    "        tot_abs_degree =  Degree(13, 20, 0).times(self.moon.nakhetra_number)\n",
    "        moon_abs_degree =  Degree(30, 0, 0).times(self.moon.rasi_number -1) + self.moon.rasi_degree\n",
    "        #print(tot_abs_degree, moon_abs_degree)\n",
    "        nakhetra_degree = Degree(13, 20, 0)\n",
    "        return (tot_abs_degree - moon_abs_degree) / nakhetra_degree\n",
    "    \n",
    "    @property\n",
    "    def dasha_degrees_over_fraction(self):\n",
    "        return 1 - self.dasha_degrees_remaining_fraction\n",
    "    \n",
    "    @property\n",
    "    def virtual_beginning_of_dasha(self):\n",
    "        return self.date_of_birth - timedelta(seconds=self.dasha_degrees_over_fraction * self.total_vimshottari_dasha_seconds * mahadasha_days[self.mahadasha_no_at_birth])\n",
    "        \n",
    "    def find_dasha_running(self, date):\n",
    "        self.dasha_running = []\n",
    "        self.__find_dasha_running(date, self.mahadasha_no_at_birth, self.total_vimshottari_dasha_seconds, self.virtual_beginning_of_dasha)\n",
    "        \n",
    "    def __find_dasha_running(self, date, dasha_running, total_dasha, dasha_begins):\n",
    "        dasha_period = mahadasha_days[dasha_running] * total_dasha\n",
    "        dasha_ends = dasha_begins + timedelta(seconds=dasha_period)\n",
    "        if len(self.dasha_running) < 5:\n",
    "            if date > dasha_ends :\n",
    "                dasha_begins = dasha_ends\n",
    "                self.__find_dasha_running(date, get_next_dasha_no(dasha_running), total_dasha, dasha_begins)\n",
    "            else:\n",
    "                self.dasha_running.append(dasha_running)\n",
    "                total_dasha = dasha_period\n",
    "                self.__find_dasha_running(date, dasha_running, total_dasha, dasha_begins)\n",
    "    \n",
    "    def print_dasha_running(self):\n",
    "        dasha_planets = []\n",
    "        for number in self.dasha_running:\n",
    "            dasha_planets.append(self.__class__.mahadasha_number_planet_mapping[number])\n",
    "        print('-'.join(dasha_planets))\n",
    "    \n",
    "        "
   ]
  },
  {
   "cell_type": "code",
   "execution_count": 9,
   "metadata": {
    "tags": []
   },
   "outputs": [
    {
     "output_type": "stream",
     "name": "stdout",
     "text": "saturn-moon-rahu-venus-saturn\n"
    }
   ],
   "source": [
    "moon = Planet('moon', 7, Degree(10, 37, 17), 15, 2) # 7 is rasi number, 15 is nakhetra number, 2 is pada number\n",
    "date_of_birth = datetime.datetime(1980, 8, 17, 8, 15, 0)\n",
    "\n",
    "dasha = vimshottari(date_of_birth, moon)\n",
    "\n",
    "event = datetime.datetime.today()\n",
    "dasha.find_dasha_running(event)\n",
    "dasha.print_dasha_running()\n"
   ]
  },
  {
   "cell_type": "markdown",
   "metadata": {},
   "source": [
    "## Notes : In one cycle of moon , 120 years of vimshottari dasha is covered !!! "
   ]
  },
  {
   "cell_type": "code",
   "execution_count": null,
   "metadata": {},
   "outputs": [],
   "source": []
  }
 ],
 "metadata": {
  "kernelspec": {
   "display_name": "Python 3.7.3 64-bit",
   "language": "python",
   "name": "python37364bit6431cd788c314fabafbe4544f9979196"
  },
  "language_info": {
   "codemirror_mode": {
    "name": "ipython",
    "version": 3
   },
   "file_extension": ".py",
   "mimetype": "text/x-python",
   "name": "python",
   "nbconvert_exporter": "python",
   "pygments_lexer": "ipython3",
   "version": "3.7.3-final"
  }
 },
 "nbformat": 4,
 "nbformat_minor": 4
}