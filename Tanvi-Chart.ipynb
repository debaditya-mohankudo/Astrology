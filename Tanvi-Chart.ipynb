{
 "metadata": {
  "language_info": {
   "codemirror_mode": {
    "name": "ipython",
    "version": 3
   },
   "file_extension": ".py",
   "mimetype": "text/x-python",
   "name": "python",
   "nbconvert_exporter": "python",
   "pygments_lexer": "ipython3",
   "version": "3.8.2"
  },
  "orig_nbformat": 2,
  "kernelspec": {
   "name": "python382jvsc74a57bd031f2aee4e71d21fbe5cf8b01ff0e069b9275f58929596ceb00d14d90e3e16cd6",
   "display_name": "Python 3.8.2 64-bit"
  },
  "metadata": {
   "interpreter": {
    "hash": "31f2aee4e71d21fbe5cf8b01ff0e069b9275f58929596ceb00d14d90e3e16cd6"
   }
  }
 },
 "nbformat": 4,
 "nbformat_minor": 2,
 "cells": [
  {
   "cell_type": "code",
   "execution_count": 1,
   "metadata": {},
   "outputs": [],
   "source": [
    "import datetime\n",
    "from datetime import timedelta\n",
    "from Rasi import Rasi\n",
    "from Degree import Degree\n",
    "from Dasha import Dasha\n",
    "from Nakhetra import Nakhetra\n",
    "from Rasi import Rasi\n",
    "from Planet import Planet\n",
    "from vimshottari import vimshottari"
   ]
  },
  {
   "cell_type": "code",
   "execution_count": null,
   "metadata": {},
   "outputs": [],
   "source": [
    "tk_moon = Planet('moon', Rasi(7, Degree(27, 18, 46)), Nakhetra(16, 3))\n",
    "tk_date_of_birth = datetime.datetime(1983, 10, 9, 9, 45, 0)\n",
    "dasha = vimshottari(k_date_of_birth, k_moon)"
   ]
  }
 ]
}