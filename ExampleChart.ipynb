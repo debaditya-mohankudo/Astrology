{
 "cells": [
  {
   "cell_type": "markdown",
   "metadata": {},
   "source": [
    "## Example"
   ]
  },
  {
   "cell_type": "code",
   "execution_count": 1,
   "metadata": {
    "tags": []
   },
   "outputs": [],
   "source": [
    "import datetime\n",
    "from datetime import timedelta\n",
    "from Rasi import Rasi\n",
    "from Degree import Degree\n",
    "from Dasha import Dasha\n",
    "from Nakhetra import Nakhetra\n",
    "from Rasi import Rasi\n",
    "from Planet import Planet\n",
    "from vimshottari import vimshottari\n",
    "from D9 import D9"
   ]
  },
  {
   "cell_type": "code",
   "execution_count": 3,
   "metadata": {},
   "outputs": [
    {
     "output_type": "stream",
     "name": "stdout",
     "text": [
      "U phalguni,\nPada Number:::4,\nPada degree:::0,41,24\nNavamsha Rasi::: None\n"
     ]
    }
   ],
   "source": [
    "Ascendant = Rasi(6, Degree(7, 21, 24))\n",
    "print(Ascendant.to_nakhetra())\n",
    "d9_ascendant = D9(Ascendant)\n",
    "print('Navamsha Rasi:::', d9_ascendant.navamsha_number)\n"
   ]
  },
  {
   "cell_type": "markdown",
   "metadata": {},
   "source": [
    "### check mahadasha lord movement"
   ]
  },
  {
   "cell_type": "code",
   "execution_count": 4,
   "metadata": {},
   "outputs": [],
   "source": [
    "moon = Planet('moon', Rasi(7, Degree(10, 37, 17)), Nakhetra(15, 2))\n",
    "date_of_birth = datetime.datetime(1980, 8, 17, 8, 15, 0)\n",
    "dasha = vimshottari(date_of_birth, moon)"
   ]
  },
  {
   "cell_type": "code",
   "execution_count": 4,
   "metadata": {},
   "outputs": [
    {
     "output_type": "stream",
     "name": "stdout",
     "text": [
      "['saturn', 'moon', 'ketu', 'moon', 'moon']\n"
     ]
    }
   ],
   "source": [
    "event = datetime.datetime.today()\n",
    "dasha.find_dasha_running(event)"
   ]
  },
  {
   "cell_type": "raw",
   "metadata": {},
   "source": [
    "Planets\tC\tR\tRashi\tLongitude\tNakshatra\tPada\tRelation\n",
    "Asc\t \t \tVirgo\t07-21-24\tUttaraphal\t4\t \n",
    "Sun in Lagna Kundli\n",
    "Leo\n",
    "Own\n",
    "lord of [\"12\",\"0\"] and in 12 House \n",
    "Aspects on- [\"2:1/4\",\"3:3/4\",\"4:2/4\",\"6:1\",\"7:3/4\",\"8:2/4\",\"9:1/4\"]\n",
    "Aspects From- -\n",
    "READ SUN PREDICTIONSSun\t\tD\tLeo\t00-46-26\tMagha\t1\tOwn\n",
    "Moon in Lagna Kundli\n",
    "Libra\n",
    "Neutral\n",
    "lord of [\"11\",\"0\"] and in 2 House \n",
    "Aspects on- [\"4:1/4\",\"5:3/4\",\"6:2/4\",\"8:1\",\"9:3/4\",\"10:2/4\",\"11:1/4\"]\n",
    "Aspects From- -\n",
    "READ MOON PREDICTIONSMoon\t\tD\tLibra\t10-37-17\tSwati\t2\tNeutral\n",
    "Mars in Lagna Kundli\n",
    "Virgo\n",
    "Enemy\n",
    "lord of [\"8\",\"3\"] and in 1 House \n",
    "Aspects on- [\"3:1/4\",\"4:1\",\"5:2/4\",\"7:1\",\"8:1\",\"9:2/4\",\"10:1/4\"]\n",
    "Aspects From- [\"Ketu\"]\n",
    "READ MARS PREDICTIONSMars\t\tD\tVirgo\t28-41-07\tChitra\t2\tEnemy\n",
    "Mercury in Lagna Kundli\n",
    "Cancer\n",
    "Enemy\n",
    "lord of [\"10\",\"1\"] and in 11 House \n",
    "Aspects on- [\"1:1/4\",\"2:3/4\",\"3:2/4\",\"5:1\",\"6:3/4\",\"7:2/4\",\"8:1/4\"]\n",
    "Aspects From- [\"Ketu\"]\n",
    "READ MERCURY PREDICTIONSMerc\tC\tD\tCancer\t21-03-27\tAshlesha\t2\tEnemy\n",
    "Jupiter in Lagna Kundli\n",
    "Leo\n",
    "Friendly\n",
    "lord of [\"4\",\"7\"] and in 12 House \n",
    "Aspects on- [\"2:1/4\",\"3:3/4\",\"4:1\",\"6:1\",\"7:3/4\",\"8:1\",\"9:1/4\"]\n",
    "Aspects From- -\n",
    "READ JUPITER PREDICTIONSJupt\t\tD\tLeo\t21-18-54\tPurvaphalgini\t3\tFriendly\n",
    "Venus in Lagna Kundli\n",
    "Gemini\n",
    "Friendly\n",
    "lord of [\"9\",\"2\"] and in 10 House \n",
    "Aspects on- [\"12:1/4\",\"1:3/4\",\"2:2/4\",\"4:1\",\"5:3/4\",\"6:2/4\",\"7:1/4\"]\n",
    "Aspects From- [\"Saturn\"]\n",
    "READ VENUS PREDICTIONSVenu\t\tD\tGemini\t15-14-56\tArdra\t3\tFriendly\n",
    "Saturn in Lagna Kundli\n",
    "Virgo\n",
    "Friendly\n",
    "lord of [\"5\",\"6\"] and in 1 House \n",
    "Aspects on- [\"3:1\",\"4:3/4\",\"5:2/4\",\"7:1\",\"8:3/4\",\"9:2/4\",\"10:1\"]\n",
    "Aspects From- [\"Ketu\"]\n",
    "READ SATURN PREDICTIONSSatn\t\tD\tVirgo\t02-11-17\tUttaraphal\t2\tFriendly\n",
    "Rahu in Lagna Kundli\n",
    "Cancer\n",
    "-\n",
    "lord of [\"0\",\"0\"] and in 11 House \n",
    "Aspects on- [\"1:1/4\",\"2:3/4\",\"3:1\",\"5:1\",\"6:3/4\",\"7:1\",\"8:1/4\"]\n",
    "Aspects From- [\"Ketu\"]\n",
    "READ RAHU PREDICTIONSRahu\t\tR\tCancer\t26-10-35\tAshlesha\t3\t\n",
    "Ketu in Lagna Kundli\n",
    "Capricorn\n",
    "-\n",
    "lord of [\"0\",\"0\"] and in 5 House \n",
    "Aspects on- [\"7:1/4\",\"8:3/4\",\"9:1\",\"11:1\",\"12:3/4\",\"1:1\",\"2:1/4\"]\n",
    "Aspects From- [\"Mercury\",\"Rahu\"]\n",
    "READ KETU PREDICTIONSKetu\t\tR\tCapricorn\t26-10-35\tDhanishta\t1\t"
   ]
  }
 ],
 "metadata": {
  "kernelspec": {
   "name": "python382jvsc74a57bd031f2aee4e71d21fbe5cf8b01ff0e069b9275f58929596ceb00d14d90e3e16cd6",
   "display_name": "Python 3.8.2 64-bit"
  },
  "language_info": {
   "codemirror_mode": {
    "name": "ipython",
    "version": 3
   },
   "file_extension": ".py",
   "mimetype": "text/x-python",
   "name": "python",
   "nbconvert_exporter": "python",
   "pygments_lexer": "ipython3",
   "version": "3.8.2"
  },
  "metadata": {
   "interpreter": {
    "hash": "31f2aee4e71d21fbe5cf8b01ff0e069b9275f58929596ceb00d14d90e3e16cd6"
   }
  }
 },
 "nbformat": 4,
 "nbformat_minor": 4
}