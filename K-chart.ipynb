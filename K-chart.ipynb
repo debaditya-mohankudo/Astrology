{
 "cells": [
  {
   "cell_type": "markdown",
   "metadata": {},
   "source": [
    "### K"
   ]
  },
  {
   "cell_type": "code",
   "execution_count": 6,
   "metadata": {
    "tags": []
   },
   "outputs": [],
   "source": [
    "import datetime\n",
    "\n",
    "from Degree import Degree\n",
    "from Dasha import Dasha\n",
    "from Nakhetra import Nakhetra\n",
    "from Rasi import Rasi\n",
    "from Planet import Planet\n",
    "from vimshottari import vimshottari\n"
   ]
  },
  {
   "cell_type": "code",
   "execution_count": 13,
   "metadata": {},
   "outputs": [],
   "source": [
    "k_moon = Planet('moon', Rasi(9, Degree(19, 12, 40)), Nakhetra(20, 2))\n",
    "k_date_of_birth = datetime.datetime(1984, 1, 30, 18, 46, 0)\n",
    "dasha = vimshottari(k_date_of_birth, k_moon)"
   ]
  },
  {
   "cell_type": "code",
   "execution_count": 14,
   "metadata": {},
   "outputs": [
    {
     "name": "stdout",
     "output_type": "stream",
     "text": [
      "['rahu', 'rahu', 'moon', 'rahu', 'mercury', 'mercury']\n"
     ]
    }
   ],
   "source": [
    "event = datetime.datetime.today()\n",
    "dasha.find_dasha_running(event)"
   ]
  },
  {
   "cell_type": "code",
   "execution_count": null,
   "metadata": {},
   "outputs": [],
   "source": [
    "rahu - 11th              \n",
    "moon - 6th / lord of 1st\n",
    "moon - 8th to rahu\n",
    "sat  - 6th to rahu\n",
    "mar  - 6th to rahu"
   ]
  },
  {
   "cell_type": "code",
   "execution_count": 15,
   "metadata": {},
   "outputs": [],
   "source": [
    "## calculations"
   ]
  },
  {
   "cell_type": "code",
   "execution_count": null,
   "metadata": {},
   "outputs": [],
   "source": []
  }
 ],
 "metadata": {
  "kernelspec": {
   "display_name": "Python 3.7.3 64-bit",
   "language": "python",
   "name": "python37364bit6431cd788c314fabafbe4544f9979196"
  },
  "language_info": {
   "codemirror_mode": {
    "name": "ipython",
    "version": 3
   },
   "file_extension": ".py",
   "mimetype": "text/x-python",
   "name": "python",
   "nbconvert_exporter": "python",
   "pygments_lexer": "ipython3",
   "version": "3.7.3"
  }
 },
 "nbformat": 4,
 "nbformat_minor": 4
}
